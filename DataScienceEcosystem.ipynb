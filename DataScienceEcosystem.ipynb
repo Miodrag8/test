{
 "cells": [
  {
   "cell_type": "markdown",
   "id": "55189d4a-9695-4b2f-bef9-4f93cd6d583e",
   "metadata": {},
   "source": [
    "# Data Science Tools and Ecosystem"
   ]
  },
  {
   "cell_type": "markdown",
   "id": "78b087e0-f58f-4d22-b5d0-7313a34974bf",
   "metadata": {},
   "source": [
    "In this notebook, Data Science Tools and Ecosystem are summarized."
   ]
  },
  {
   "cell_type": "markdown",
   "id": "5c34a3f5-d9ee-4269-9958-3b68250ae12d",
   "metadata": {},
   "source": [
    "__Objectives:__\n",
    "- List popular languages for Data Science\n",
    "- List some of the popular libraries used by Data Scientists\n",
    "- List some of the popular Data Science Tools"
   ]
  },
  {
   "cell_type": "markdown",
   "id": "3d889258-7fa7-4ee8-a36b-efd932ffde93",
   "metadata": {},
   "source": [
    "Some of the popular languages that Data Scientists use are:\n",
    "1. Python\n",
    "2. R\n",
    "3. Scala"
   ]
  },
  {
   "cell_type": "markdown",
   "id": "2ad1c4d1-1565-4616-bdf2-fe2c55c39387",
   "metadata": {},
   "source": [
    "Some of the commonly used libraries used by Data Scientists include:\n",
    "1. Mathplotlib\n",
    "2. Tensorflow\n",
    "3. Pandas"
   ]
  },
  {
   "cell_type": "markdown",
   "id": "38fb1d2b-33e1-418b-9912-b718f1eeafe4",
   "metadata": {},
   "source": [
    "|Data Science Tools|\n",
    "|-------|\n",
    "|R Studio|\n",
    "|Apache Spark|\n",
    "|TensorFlow|"
   ]
  },
  {
   "cell_type": "markdown",
   "id": "8b0130b9-cb83-4fa2-bb29-6804407f00eb",
   "metadata": {},
   "source": [
    "### Below are a few examples of evaluating arithmetic expressions in Python"
   ]
  },
  {
   "cell_type": "markdown",
   "id": "f8459bee-49fb-4eca-8e3b-8f90a91a68a8",
   "metadata": {},
   "source": [
    "_This a simple arithmetic expression to mutiply then add integers_"
   ]
  },
  {
   "cell_type": "code",
   "execution_count": 3,
   "id": "7d9f1faf-bf73-41fb-a8a7-11f286125f65",
   "metadata": {},
   "outputs": [
    {
     "data": {
      "text/plain": [
       "17"
      ]
     },
     "execution_count": 3,
     "metadata": {},
     "output_type": "execute_result"
    }
   ],
   "source": [
    "(3*4)+5"
   ]
  },
  {
   "cell_type": "markdown",
   "id": "a8852147-15a3-404a-9e3b-332218106c31",
   "metadata": {},
   "source": [
    "_This will convert 200 minutes to hours by diving by 60_"
   ]
  },
  {
   "cell_type": "code",
   "execution_count": 5,
   "id": "364f69f2-0d87-49c3-b112-855114487949",
   "metadata": {},
   "outputs": [
    {
     "name": "stdout",
     "output_type": "stream",
     "text": [
      "3.33 h\n"
     ]
    }
   ],
   "source": [
    "x = round(200/60, 2)\n",
    "print(x, 'h')"
   ]
  },
  {
   "cell_type": "markdown",
   "id": "08e1b956-527a-427a-b6f4-d60feeb44552",
   "metadata": {},
   "source": [
    "## Author:\n",
    "Miodrag Životić"
   ]
  },
  {
   "cell_type": "code",
   "execution_count": null,
   "id": "799843ee-4c34-4f5f-8999-c8981f532ce6",
   "metadata": {},
   "outputs": [],
   "source": []
  }
 ],
 "metadata": {
  "kernelspec": {
   "display_name": "Python",
   "language": "python",
   "name": "conda-env-python-py"
  },
  "language_info": {
   "codemirror_mode": {
    "name": "ipython",
    "version": 3
   },
   "file_extension": ".py",
   "mimetype": "text/x-python",
   "name": "python",
   "nbconvert_exporter": "python",
   "pygments_lexer": "ipython3",
   "version": "3.7.12"
  }
 },
 "nbformat": 4,
 "nbformat_minor": 5
}
